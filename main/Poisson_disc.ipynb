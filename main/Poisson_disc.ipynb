{
 "cells": [
  {
   "cell_type": "code",
   "execution_count": 1,
   "id": "e97ba960-6994-4669-b699-d0a0793a7877",
   "metadata": {},
   "outputs": [
    {
     "name": "stdout",
     "output_type": "stream",
     "text": [
      "cuda\n",
      "1.13.0+cu117\n"
     ]
    }
   ],
   "source": [
    "import numpy as np\n",
    "import torch\n",
    "import torch.nn as nn\n",
    "from torch.autograd import Variable as v\n",
    "from tqdm import tqdm\n",
    "import time \n",
    "\n",
    "is_gpu = torch.cuda.is_available()\n",
    "if is_gpu:\n",
    "    id = 0\n",
    "    torch.cuda.set_device(id)\n",
    "    \n",
    "#gpu_nums = torch.cuda.device_count()\n",
    "#gpu_index = torch.cuda.current_device()\n",
    "#print(is_gpu,gpu_nums,gpu_index)\n",
    "device = torch.device('cuda' if is_gpu else 'cpu')\n",
    "\n",
    "#device = torch.device('cpu')\n",
    "print(device)\n",
    "torch.set_default_tensor_type('torch.DoubleTensor')\n",
    "print(torch.__version__)\n",
    "\n",
    "import pickle\n",
    "def save_variable(v,filename):\n",
    "    f=open(filename,'wb')\n",
    "    pickle.dump(v,f)\n",
    "    f.close()\n",
    "    return filename\n",
    " \n",
    "def load_variable(filename):\n",
    "    f=open(filename,'rb')\n",
    "    r=pickle.load(f)\n",
    "    f.close()\n",
    "    return r"
   ]
  },
  {
   "cell_type": "code",
   "execution_count": 14,
   "id": "0720ad79-44bb-4fa6-a4b1-8c405ed2418d",
   "metadata": {},
   "outputs": [],
   "source": [
    "int_sample_num = 50\n",
    "\n",
    "theta = torch.linspace(2*np.pi/int_sample_num,2*np.pi,int_sample_num).reshape(-1,1)\n",
    "r = 1 #9/20-1/9*torch.cos(5*theta)\n",
    "x0,x1 = torch.cos(theta),torch.sin(theta)\n",
    "int_x = torch.cat((x0,x1),1)*r\n",
    "#rprime = torch.cat((-torch.sin(theta),torch.cos(theta)),1)\n",
    "#int_n = rprime@torch.Tensor([[0,-1],[1,0]])\n",
    "int_n = int_x/r#int_n/((int_n*int_n).sum(axis=1).reshape(-1,1).sqrt())          \n",
    "mat = 0\n",
    "\n",
    "if mat == 1:\n",
    "    A2 = load_variable('./matrix/Poisson_Disc_1200.txt')\n",
    "else:\n",
    "    G2 = torch.zeros(int_sample_num,int_sample_num)\n",
    "    for i in range(int_sample_num):\n",
    "        d = int_x-int_x[i,:]\n",
    "        r0 = d.norm(dim=1)\n",
    "        G2[i,:] = -1/(2*np.pi)*((d*int_n).sum(axis=1))/(r0*r0)\n",
    "    \n",
    "            \n",
    "    KaparR2 = torch.zeros(int_sample_num,1)\n",
    "    KaparR2[1],KaparR2[2] = 1.825748064736159,-1.325748064736159\n",
    "    A2 = torch.zeros(int_sample_num,int_sample_num)\n",
    "    for i in range(int_sample_num):\n",
    "        for j in range(int_sample_num):\n",
    "            if i==j:\n",
    "                A2[i,j] = 1/2\n",
    "            else:\n",
    "                A2[i,j] = -(1+KaparR2[min(abs(i-j), int_sample_num-abs(i-j))])*G2[i,j]/int_sample_num*2*np.pi\n",
    "    #save_variable(A2,'./matrix/Poisson_Disc_1200.txt')\n",
    "\n"
   ]
  },
  {
   "cell_type": "code",
   "execution_count": 15,
   "id": "70406948-308f-4de8-bb1c-6db22d018fc5",
   "metadata": {},
   "outputs": [],
   "source": [
    "M0 = 160\n",
    "r1 = torch.rand(M0,1).sqrt()\n",
    "theta1 = torch.rand(M0,1)*2*np.pi\n",
    "x0,x1 = torch.cos(theta1),torch.sin(theta1)\n",
    "in_x = torch.cat((x0,x1),1)*r1\n",
    "int_xy = torch.zeros(M0*int_sample_num,4)\n",
    "for i in range(M0):\n",
    "    int_xy[i*int_sample_num:(i+1)*int_sample_num,0:2] = in_x[i,:]\n",
    "    int_xy[i*int_sample_num:(i+1)*int_sample_num,2:4] = int_x\n",
    "sample_u = -(torch.log(((int_xy[:,0:2]-int_xy[:,2:4])**2).sum(axis=1).sqrt())/(2*np.pi)).reshape(-1,1)"
   ]
  },
  {
   "cell_type": "code",
   "execution_count": 5,
   "id": "2dc1346e-946c-4234-aff4-c33b699c3329",
   "metadata": {},
   "outputs": [],
   "source": [
    "m = 100\n",
    "class myNet(nn.Module):\n",
    "  def __init__(self):\n",
    "    super(myNet, self).__init__()\n",
    "    self.input = nn.Linear(4,m)\n",
    "    self.block1=nn.Sequential(\n",
    "      nn.Linear(m,m),nn.ReLU(),\n",
    "      nn.Linear(m,m),nn.ReLU(),\n",
    "    )\n",
    "    self.block2=nn.Sequential(\n",
    "      nn.Linear(m,m),nn.ReLU(),\n",
    "      nn.Linear(m,m),nn.ReLU(),\n",
    "    )\n",
    "    self.block3=nn.Sequential(\n",
    "      nn.Linear(m,m),nn.ReLU(),\n",
    "      nn.Linear(m,m),nn.ReLU(),\n",
    "    )\n",
    "    self.block4=nn.Sequential(\n",
    "      nn.Linear(m,m),nn.ReLU(),\n",
    "      nn.Linear(m,m),nn.ReLU(),\n",
    "    )\n",
    "    self.block5=nn.Sequential(\n",
    "      nn.Linear(m,m),nn.ReLU(),\n",
    "      nn.Linear(m,m),nn.ReLU(),\n",
    "    )\n",
    "    self.block6=nn.Sequential(\n",
    "      nn.Linear(m,m),nn.ReLU(),\n",
    "      nn.Linear(m,m),nn.ReLU(),\n",
    "    )\n",
    "    self.block7=nn.Sequential(\n",
    "      nn.Linear(m,m),nn.ReLU(),\n",
    "      nn.Linear(m,m),nn.ReLU(),\n",
    "    )\n",
    "    self.block8=nn.Sequential(\n",
    "      nn.Linear(m,m),nn.ReLU(),\n",
    "      nn.Linear(m,m),nn.ReLU(),\n",
    "    )\n",
    "    #self.block9=nn.Sequential(\n",
    "    #  nn.Linear(m,m),nn.ReLU(),\n",
    "    #  nn.Linear(m,m),nn.ReLU(),\n",
    "    #)\n",
    "    self.out = nn.Linear(m,1)\n",
    "  def forward(self, x):\n",
    "      x = self.input(x)\n",
    "      x = self.block1(x) + x\n",
    "      x = self.block2(x) + x\n",
    "      x = self.block3(x) + x\n",
    "      x = self.block4(x) + x\n",
    "      x = self.block5(x) + x\n",
    "      x = self.block6(x) + x\n",
    "      x = self.block7(x) + x\n",
    "      x = self.block8(x) + x\n",
    "      #x = self.block9(x) + x\n",
    "      x = self.out(x)\n",
    "      return x\n",
    "  \n",
    "mynet1 = myNet() \n"
   ]
  },
  {
   "cell_type": "code",
   "execution_count": 16,
   "id": "070d9fde-1a76-4718-a669-7118cea35dcc",
   "metadata": {},
   "outputs": [],
   "source": [
    "mynet1 = mynet1.to(device)\n",
    "int_xy = int_xy.to(device)\n",
    "A2 = A2.to(device)\n",
    "sample_u = sample_u.to(device)"
   ]
  },
  {
   "cell_type": "code",
   "execution_count": 17,
   "id": "ad683c83-9c84-4e5d-9e5c-1028f254e800",
   "metadata": {},
   "outputs": [
    {
     "name": "stdout",
     "output_type": "stream",
     "text": [
      "5.48487 0 0.0594\n",
      "0.00034 1000 48.7860\n",
      "0.00010 2000 47.7498\n"
     ]
    }
   ],
   "source": [
    "\n",
    "optimzer1 = torch.optim.Adam(mynet1.parameters(mynet1),lr=0.00001)\n",
    "Epoc = 2000\n",
    "loss_all = np.zeros(Epoc+1)\n",
    "u0 = torch.zeros(M0*int_sample_num,1)\n",
    "t = time.time()\n",
    "for epoc in range(Epoc+1):\n",
    "    loss = 0\n",
    "    if (epoc-1)%200==0:\n",
    "        r1 = torch.rand(M0,1).sqrt()\n",
    "        theta1 = torch.rand(M0,1)*2*np.pi\n",
    "        x0,x1 = torch.cos(theta1),torch.sin(theta1)\n",
    "        in_x = torch.cat((x0,x1),1)*r1\n",
    "        int_xy = torch.zeros(M0*int_sample_num,4)\n",
    "        for i in range(M0):\n",
    "            int_xy[i*int_sample_num:(i+1)*int_sample_num,0:2] = in_x[i,:]\n",
    "            int_xy[i*int_sample_num:(i+1)*int_sample_num,2:4] = int_x\n",
    "        sample_u = (torch.log(((int_xy[:,0:2]-int_xy[:,2:4])**2).sum(axis=1).sqrt())/(2*np.pi)).reshape(-1,1)\n",
    "        sample_u = sample_u.to(device) \n",
    "        int_xy = int_xy.to(device)\n",
    "        \n",
    "    int_h = mynet1(int_xy)\n",
    "    for i in range(M0):\n",
    "        u0 = -A2@((int_h[i*int_sample_num:(i+1)*int_sample_num]))\n",
    "        loss = loss + torch.mean(torch.pow(u0-sample_u[i*int_sample_num:(i+1)*int_sample_num],2))\n",
    "    \n",
    "    #loss = Green_loss_func(sample_u,u0)\n",
    "    \n",
    "    optimzer1.zero_grad()\n",
    "    loss.backward(retain_graph=True)\n",
    "    optimzer1.step()\n",
    "    loss_all[epoc] = loss.cpu().detach().numpy() \n",
    "    if epoc%1000==0:\n",
    "        print(\"%.5f\"%loss_all[epoc],epoc,\"%.4f\"%(time.time()-t))\n",
    "        t = time.time()\n",
    "        #print((bd_u-u0).norm()**2/bd_sample_num)\n"
   ]
  },
  {
   "cell_type": "code",
   "execution_count": 21,
   "id": "84bdbc6b-7155-43c4-9bf0-8cef5be28e64",
   "metadata": {},
   "outputs": [],
   "source": [
    "mynet2 = mynet1.cpu()\n",
    "torch.save(mynet2.state_dict(),'./Poisson_disc_50_160')"
   ]
  },
  {
   "cell_type": "code",
   "execution_count": 22,
   "id": "1e814c09-0232-44b2-9644-0a750cb05ad6",
   "metadata": {},
   "outputs": [],
   "source": [
    "\n",
    "int_sample_num = 1200\n",
    "\n",
    "theta = torch.linspace(2*np.pi/int_sample_num,2*np.pi,int_sample_num).reshape(-1,1)\n",
    "r = 1 #9/20-1/9*torch.cos(5*theta)\n",
    "x0,x1 = torch.cos(theta),torch.sin(theta)\n",
    "int_x = torch.cat((x0,x1),1)*r\n",
    "int_n = int_x/r#int_n/((int_n*int_n).sum(axis=1).reshape(-1,1).sqrt())          \n"
   ]
  },
  {
   "cell_type": "code",
   "execution_count": 23,
   "id": "fb060862-c786-41cf-8890-9794f5148b7a",
   "metadata": {},
   "outputs": [],
   "source": [
    "\n",
    "sample = 1000\n",
    "theta_in = torch.rand(sample,1)*2*np.pi\n",
    "r_in = torch.rand(sample,1).sqrt()*0.99#*(9/20-1/9*torch.cos(5*theta_in))*0.90\n",
    "y0_in = torch.cos(theta_in)\n",
    "y1_in = torch.sin(theta_in)\n",
    "y_in = torch.cat((y0_in,y1_in),1)*r_in\n",
    "y_out = torch.cat((y0_in,y1_in),1)/r_in\n",
    "G2_in = torch.zeros(sample,int_sample_num)\n",
    "'''for i in range(sample):\n",
    "    for j in range(int_sample_num):\n",
    "        d = int_x[j,:]-y_in[i,:]\n",
    "        r0 = d.norm()\n",
    "        G2_in[i,j] = -1/(2*np.pi)*((d*int_n[j,:]).sum())/(r0*r0)\n",
    "'''\n",
    "for i in range(sample):\n",
    "        d = int_x-y_in[i,:]\n",
    "        r0 = d.norm(dim=1)\n",
    "        G2_in[i,:] = -1/(2*np.pi)*((d*int_n).sum(axis=1))/(r0*r0)"
   ]
  },
  {
   "cell_type": "code",
   "execution_count": 12,
   "id": "2c3df052-953b-4bf0-a204-ac4c8dc13890",
   "metadata": {},
   "outputs": [],
   "source": [
    "file_handle=open('loss50_160.txt',mode='w')\n",
    "for i in range(Epoc):\n",
    "    file_handle.write(str(loss_all[i])+'\\n')"
   ]
  },
  {
   "cell_type": "code",
   "execution_count": 24,
   "id": "3a7d330e-44e4-477b-8d49-f01327016b34",
   "metadata": {},
   "outputs": [
    {
     "name": "stderr",
     "output_type": "stream",
     "text": [
      "100%|██████████| 500/500 [00:04<00:00, 115.53it/s]"
     ]
    },
    {
     "name": "stdout",
     "output_type": "stream",
     "text": [
      "torch.Size([500000, 1])\n",
      "tensor(0.0084, grad_fn=<DivBackward0>)\n",
      "tensor(0.0714, grad_fn=<MulBackward0>)\n"
     ]
    },
    {
     "name": "stderr",
     "output_type": "stream",
     "text": [
      "\n"
     ]
    }
   ],
   "source": [
    "mynet2 = mynet1.cpu()\n",
    "device1 = torch.device('cpu')\n",
    "M0 = 500\n",
    "r1 = torch.rand(M0,1).sqrt()\n",
    "theta1 = torch.rand(M0,1)*2*np.pi\n",
    "x0,x1 = torch.cos(theta1),torch.sin(theta1)\n",
    "x_in = torch.cat((x0,x1),1)*r1\n",
    "x_out = torch.cat((x0,x1),1)/r1\n",
    "\n",
    "int_xy_in = torch.zeros(M0*int_sample_num,4)\n",
    "int_xy_bd = torch.zeros(M0*int_sample_num,4)\n",
    "#A2_c = A2.to(device1)\n",
    "in_u = torch.zeros(M0*sample,1)\n",
    "g0 = torch.zeros(M0*sample,1)\n",
    "bd_u = torch.zeros(M0*int_sample_num,1)\n",
    "u_green = torch.zeros(M0*sample,1)\n",
    "u_green_bd = torch.zeros(M0*int_sample_num,1)\n",
    "for i in tqdm(range(M0)):\n",
    "    int_xy_in[i*int_sample_num:(i+1)*int_sample_num,0:2] = x_in[i,:]\n",
    "    int_xy_in[i*int_sample_num:(i+1)*int_sample_num,2:4] = int_x\n",
    "    d0 = ((y_out-x_in[i,:])**2).sum(axis=1).sqrt().reshape(-1,1)\n",
    "    in_u[i*sample:(i+1)*sample] = torch.log((y_in**2).sum(axis=1).sqrt().reshape(-1,1)*d0)/(2*np.pi) \n",
    "    g0[i*sample:(i+1)*sample] = torch.log(((y_in-x_in[i,:])**2).sum(axis=1).sqrt().reshape(-1,1))/(2*np.pi) \n",
    "    in_h = mynet2(int_xy_in[i*int_sample_num:(i+1)*int_sample_num,:])\n",
    "    u_green[i*sample:(i+1)*sample] = G2_in@in_h/int_sample_num*np.pi*2\n",
    "    #u_green_bd[i*int_sample_num:(i+1)*int_sample_num] = -A2_c@((in_h))\n",
    "\n",
    "bd_u = (torch.log(((int_xy_in[:,0:2]-int_xy_in[:,2:4])**2).sum(axis=1).sqrt())/(2*np.pi)).reshape(-1,1)\n",
    "    \n",
    "#print(in_u.reshape(1,-1))\n",
    "#print(u_green.reshape(1,-1))\n",
    "#print(x_in)\n",
    "print((u_green-in_u).size()) \n",
    "print((u_green-in_u).norm()/(in_u).norm())  \n",
    "#print((u_green_bd-bd_u).norm()/(bd_u).norm()) \n",
    "print((u_green-in_u).norm()/(in_u-g0).norm()*10)  \n",
    "#print((u_green-in_u).norm()/(in_u+g0).norm())  \n"
   ]
  },
  {
   "cell_type": "code",
   "execution_count": null,
   "id": "14d8b496-f314-4bf4-b63d-89c92242ab53",
   "metadata": {},
   "outputs": [],
   "source": []
  }
 ],
 "metadata": {
  "kernelspec": {
   "display_name": "Python 3 (ipykernel)",
   "language": "python",
   "name": "python3"
  },
  "language_info": {
   "codemirror_mode": {
    "name": "ipython",
    "version": 3
   },
   "file_extension": ".py",
   "mimetype": "text/x-python",
   "name": "python",
   "nbconvert_exporter": "python",
   "pygments_lexer": "ipython3",
   "version": "3.9.7"
  }
 },
 "nbformat": 4,
 "nbformat_minor": 5
}
